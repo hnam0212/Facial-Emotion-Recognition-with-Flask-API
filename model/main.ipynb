{
 "cells": [
  {
   "cell_type": "code",
   "execution_count": 1,
   "id": "1cb40645",
   "metadata": {},
   "outputs": [],
   "source": [
    "import os   \n",
    "import cv2  \n",
    "import numpy as np  \n",
    "from keras.models import model_from_json  \n",
    "from keras.preprocessing import image  "
   ]
  },
  {
   "cell_type": "code",
   "execution_count": 2,
   "id": "c83852f0",
   "metadata": {},
   "outputs": [],
   "source": [
    "face_classifier = cv2.CascadeClassifier(r'C:\\Users\\hoang\\Desktop\\ml project\\FER\\FER\\haarcascade_frontalface_default.xml')"
   ]
  },
  {
   "cell_type": "code",
   "execution_count": 3,
   "id": "6f3c31af",
   "metadata": {},
   "outputs": [],
   "source": [
    "emotion_labels = ['Angry','Disgust','Fear','Happy','Neutral', 'Sad', 'Surprise']"
   ]
  },
  {
   "cell_type": "code",
   "execution_count": 4,
   "id": "334cb5a5",
   "metadata": {},
   "outputs": [],
   "source": [
    "model = model_from_json(open(r\"C:\\\\Users\\\\hoang\\\\Desktop\\\\ml project\\\\FER\\\\FER\\\\fer.json\", \"r\").read())"
   ]
  },
  {
   "cell_type": "code",
   "execution_count": 5,
   "id": "b8464161",
   "metadata": {},
   "outputs": [],
   "source": [
    "model.load_weights(\"C:\\\\Users\\\\hoang\\\\Desktop\\\\ml project\\\\FER\\\\FER\\\\fer.h5\")"
   ]
  },
  {
   "cell_type": "code",
   "execution_count": null,
   "id": "902b75b1",
   "metadata": {},
   "outputs": [],
   "source": [
    "cap = cv2.VideoCapture(0)\n",
    "while True:  \n",
    "    ret,test_img=cap.read()# captures frame and returns boolean value and captured image  \n",
    "    if not ret:  \n",
    "        continue  \n",
    "    gray_img= cv2.cvtColor(test_img, cv2.COLOR_BGR2GRAY)  \n",
    "\n",
    "    faces_detected = face_classifier.detectMultiScale(gray_img, 1.32, 5)\n",
    "\n",
    "\n",
    "    for (x,y,w,h) in faces_detected:  \n",
    "        cv2.rectangle(test_img,(x,y),(x+w,y+h),(255,0,0),thickness=7)  \n",
    "        roi_gray=gray_img[y:y+w,x:x+h]#cropping region of interest i.e. face area from  image  \n",
    "        roi_gray=cv2.resize(roi_gray,(48,48))  \n",
    "        img_pixels = image.img_to_array(roi_gray)  \n",
    "        img_pixels = np.expand_dims(img_pixels, axis = 0)  \n",
    "        img_pixels /= 255  \n",
    "\n",
    "        predictions = model.predict(img_pixels)  \n",
    "\n",
    "        #find max indexed array  \n",
    "        max_index = np.argmax(predictions[0])  \n",
    "\n",
    "        emotions = ('angry', 'disgust', 'fear', 'happy', 'sad', 'surprise', 'neutral')  \n",
    "        predicted_emotion = emotions[max_index]  \n",
    "\n",
    "        cv2.putText(test_img, predicted_emotion, (int(x), int(y)), cv2.FONT_HERSHEY_SIMPLEX, 1, (0,0,255), 2)  \n",
    "\n",
    "    resized_img = cv2.resize(test_img, (1000, 700))  \n",
    "    cv2.imshow('Facial emotion analysis ',resized_img)  \n",
    "\n",
    "\n",
    "\n",
    "    if cv2.waitKey(10) == ord('q'):#wait until 'q' key is pressed  \n",
    "        break  \n",
    "\n",
    "cap.release()  \n",
    "cv2.destroyAllWindows"
   ]
  },
  {
   "cell_type": "code",
   "execution_count": null,
   "id": "ae3de858",
   "metadata": {},
   "outputs": [],
   "source": []
  },
  {
   "cell_type": "code",
   "execution_count": null,
   "id": "8685b224",
   "metadata": {},
   "outputs": [],
   "source": []
  }
 ],
 "metadata": {
  "kernelspec": {
   "display_name": "Python 3",
   "language": "python",
   "name": "python3"
  },
  "language_info": {
   "codemirror_mode": {
    "name": "ipython",
    "version": 3
   },
   "file_extension": ".py",
   "mimetype": "text/x-python",
   "name": "python",
   "nbconvert_exporter": "python",
   "pygments_lexer": "ipython3",
   "version": "3.8.8"
  }
 },
 "nbformat": 4,
 "nbformat_minor": 5
}
